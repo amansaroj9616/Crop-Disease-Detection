{
 "cells": [
  {
   "cell_type": "code",
   "execution_count": 1,
   "metadata": {},
   "outputs": [],
   "source": [
    "import tensorflow as tf\n",
    "from tensorflow.keras.preprocessing.image import ImageDataGenerator"
   ]
  },
  {
   "cell_type": "code",
   "execution_count": 2,
   "metadata": {},
   "outputs": [
    {
     "name": "stderr",
     "output_type": "stream",
     "text": [
      "<>:2: SyntaxWarning: invalid escape sequence '\\I'\n",
      "<>:2: SyntaxWarning: invalid escape sequence '\\I'\n",
      "C:\\Users\\vignesh\\AppData\\Local\\Temp\\ipykernel_8648\\3763768549.py:2: SyntaxWarning: invalid escape sequence '\\I'\n",
      "  dataset_dir = 'Dataset\\Image Data base'  # Replace this with the actual path\n"
     ]
    },
    {
     "name": "stdout",
     "output_type": "stream",
     "text": [
      "Found 159755 images belonging to 58 classes.\n",
      "Found 39910 images belonging to 58 classes.\n"
     ]
    }
   ],
   "source": [
    "# Define paths to your dataset\n",
    "dataset_dir = 'Dataset\\Image Data base'  # Replace this with the actual path\n",
    "\n",
    "# ImageDataGenerator for training and validation (with real-time augmentation)\n",
    "train_datagen = ImageDataGenerator(\n",
    "    rescale=1./255,          # Normalize pixel values to [0, 1]\n",
    "    shear_range=0.2,         # Randomly shear images\n",
    "    zoom_range=0.2,          # Randomly zoom images\n",
    "    horizontal_flip=True,    # Randomly flip images\n",
    "    validation_split=0.2     # Split data into training (80%) and validation (20%)\n",
    ")\n",
    "\n",
    "# Load the training data\n",
    "train_generator = train_datagen.flow_from_directory(\n",
    "    dataset_dir,                 # This is the dataset directory\n",
    "    target_size=(128, 128),      # Resize images to (128x128) for input to the model\n",
    "    batch_size=32,               # Load in batches of 32\n",
    "    class_mode='categorical',    # Use categorical labels (one-hot encoded)\n",
    "    subset='training'            # Load training data subset (80%)\n",
    ")\n",
    "\n",
    "# Load the validation data\n",
    "validation_generator = train_datagen.flow_from_directory(\n",
    "    dataset_dir,\n",
    "    target_size=(128, 128),\n",
    "    batch_size=32,\n",
    "    class_mode='categorical',\n",
    "    subset='validation'          # Load validation data subset (20%)\n",
    ")\n"
   ]
  },
  {
   "cell_type": "code",
   "execution_count": 3,
   "metadata": {},
   "outputs": [],
   "source": [
    "from tensorflow.keras.models import Sequential\n",
    "from tensorflow.keras.layers import Conv2D, MaxPooling2D, Flatten, Dense, Dropout"
   ]
  },
  {
   "cell_type": "code",
   "execution_count": 4,
   "metadata": {},
   "outputs": [
    {
     "name": "stderr",
     "output_type": "stream",
     "text": [
      "d:\\Anaconda\\anaconda\\envs\\ML\\Lib\\site-packages\\keras\\src\\layers\\convolutional\\base_conv.py:107: UserWarning: Do not pass an `input_shape`/`input_dim` argument to a layer. When using Sequential models, prefer using an `Input(shape)` object as the first layer in the model instead.\n",
      "  super().__init__(activity_regularizer=activity_regularizer, **kwargs)\n"
     ]
    }
   ],
   "source": [
    "# Define a CNN model architecture\n",
    "model = Sequential([\n",
    "    Conv2D(32, (3, 3), activation='relu', input_shape=(128, 128, 3)),  # First convolutional layer\n",
    "    MaxPooling2D(pool_size=(2, 2)),                                     # First max-pooling layer\n",
    "\n",
    "    Conv2D(64, (3, 3), activation='relu'),                             # Second convolutional layer\n",
    "    MaxPooling2D(pool_size=(2, 2)),                                     # Second max-pooling layer\n",
    "\n",
    "    Conv2D(128, (3, 3), activation='relu'),                            # Third convolutional layer\n",
    "    MaxPooling2D(pool_size=(2, 2)),                                     # Third max-pooling layer\n",
    "\n",
    "    Flatten(),                                                         # Flatten the layers\n",
    "    Dense(256, activation='relu'),                                     # Fully connected dense layer\n",
    "    Dropout(0.5),                                                      # Dropout to avoid overfitting\n",
    "    Dense(train_generator.num_classes, activation='softmax')           # Output layer (num_classes is the number of disease categories)\n",
    "])\n",
    "\n",
    "# Compile the model\n",
    "model.compile(optimizer='adam', loss='categorical_crossentropy', metrics=['accuracy'])\n"
   ]
  },
  {
   "cell_type": "code",
   "execution_count": 5,
   "metadata": {},
   "outputs": [],
   "source": [
    "from tensorflow.keras.callbacks import EarlyStopping, ModelCheckpoint"
   ]
  },
  {
   "cell_type": "code",
   "execution_count": 7,
   "metadata": {},
   "outputs": [
    {
     "name": "stdout",
     "output_type": "stream",
     "text": [
      "Epoch 1/30\n"
     ]
    },
    {
     "name": "stderr",
     "output_type": "stream",
     "text": [
      "d:\\Anaconda\\anaconda\\envs\\ML\\Lib\\site-packages\\keras\\src\\trainers\\data_adapters\\py_dataset_adapter.py:122: UserWarning: Your `PyDataset` class should call `super().__init__(**kwargs)` in its constructor. `**kwargs` can include `workers`, `use_multiprocessing`, `max_queue_size`. Do not pass these arguments to `fit()`, as they will be ignored.\n",
      "  self._warn_if_super_not_called()\n"
     ]
    },
    {
     "name": "stdout",
     "output_type": "stream",
     "text": [
      "\u001b[1m4992/4992\u001b[0m \u001b[32m━━━━━━━━━━━━━━━━━━━━\u001b[0m\u001b[37m\u001b[0m \u001b[1m2687s\u001b[0m 537ms/step - accuracy: 0.6133 - loss: 1.4416 - val_accuracy: 0.8865 - val_loss: 0.3641\n",
      "Epoch 2/30\n",
      "\u001b[1m   1/4992\u001b[0m \u001b[37m━━━━━━━━━━━━━━━━━━━━\u001b[0m \u001b[1m17:24\u001b[0m 209ms/step - accuracy: 0.9062 - loss: 0.2957"
     ]
    },
    {
     "name": "stderr",
     "output_type": "stream",
     "text": [
      "d:\\Anaconda\\anaconda\\envs\\ML\\Lib\\contextlib.py:155: UserWarning: Your input ran out of data; interrupting training. Make sure that your dataset or generator can generate at least `steps_per_epoch * epochs` batches. You may need to use the `.repeat()` function when building your dataset.\n",
      "  self.gen.throw(value)\n"
     ]
    },
    {
     "name": "stdout",
     "output_type": "stream",
     "text": [
      "\u001b[1m4992/4992\u001b[0m \u001b[32m━━━━━━━━━━━━━━━━━━━━\u001b[0m\u001b[37m\u001b[0m \u001b[1m1s\u001b[0m 70us/step - accuracy: 0.9062 - loss: 0.2957 - val_accuracy: 1.0000 - val_loss: 0.4499\n",
      "Epoch 3/30\n",
      "\u001b[1m4992/4992\u001b[0m \u001b[32m━━━━━━━━━━━━━━━━━━━━\u001b[0m\u001b[37m\u001b[0m \u001b[1m1671s\u001b[0m 335ms/step - accuracy: 0.8424 - loss: 0.5072 - val_accuracy: 0.9169 - val_loss: 0.2698\n",
      "Epoch 4/30\n",
      "\u001b[1m4992/4992\u001b[0m \u001b[32m━━━━━━━━━━━━━━━━━━━━\u001b[0m\u001b[37m\u001b[0m \u001b[1m0s\u001b[0m 6us/step - accuracy: 0.9062 - loss: 0.3028 - val_accuracy: 0.8333 - val_loss: 0.8115\n",
      "Epoch 5/30\n",
      "\u001b[1m4992/4992\u001b[0m \u001b[32m━━━━━━━━━━━━━━━━━━━━\u001b[0m\u001b[37m\u001b[0m \u001b[1m1618s\u001b[0m 324ms/step - accuracy: 0.8880 - loss: 0.3528 - val_accuracy: 0.9327 - val_loss: 0.2191\n",
      "Epoch 6/30\n",
      "\u001b[1m4992/4992\u001b[0m \u001b[32m━━━━━━━━━━━━━━━━━━━━\u001b[0m\u001b[37m\u001b[0m \u001b[1m0s\u001b[0m 6us/step - accuracy: 0.9062 - loss: 0.3203 - val_accuracy: 1.0000 - val_loss: 0.1007\n",
      "Epoch 7/30\n",
      "\u001b[1m4992/4992\u001b[0m \u001b[32m━━━━━━━━━━━━━━━━━━━━\u001b[0m\u001b[37m\u001b[0m \u001b[1m1565s\u001b[0m 313ms/step - accuracy: 0.9090 - loss: 0.2901 - val_accuracy: 0.9458 - val_loss: 0.1857\n",
      "Epoch 8/30\n",
      "\u001b[1m4992/4992\u001b[0m \u001b[32m━━━━━━━━━━━━━━━━━━━━\u001b[0m\u001b[37m\u001b[0m \u001b[1m0s\u001b[0m 8us/step - accuracy: 0.9688 - loss: 0.1400 - val_accuracy: 1.0000 - val_loss: 0.0854\n",
      "Epoch 9/30\n",
      "\u001b[1m4992/4992\u001b[0m \u001b[32m━━━━━━━━━━━━━━━━━━━━\u001b[0m\u001b[37m\u001b[0m \u001b[1m1612s\u001b[0m 323ms/step - accuracy: 0.9215 - loss: 0.2478 - val_accuracy: 0.9495 - val_loss: 0.1668\n",
      "Epoch 10/30\n",
      "\u001b[1m4992/4992\u001b[0m \u001b[32m━━━━━━━━━━━━━━━━━━━━\u001b[0m\u001b[37m\u001b[0m \u001b[1m0s\u001b[0m 6us/step - accuracy: 0.8438 - loss: 0.4198 - val_accuracy: 0.8333 - val_loss: 0.3491\n",
      "Epoch 11/30\n",
      "\u001b[1m4992/4992\u001b[0m \u001b[32m━━━━━━━━━━━━━━━━━━━━\u001b[0m\u001b[37m\u001b[0m \u001b[1m1609s\u001b[0m 322ms/step - accuracy: 0.9300 - loss: 0.2189 - val_accuracy: 0.9518 - val_loss: 0.1663\n",
      "Epoch 12/30\n",
      "\u001b[1m4992/4992\u001b[0m \u001b[32m━━━━━━━━━━━━━━━━━━━━\u001b[0m\u001b[37m\u001b[0m \u001b[1m0s\u001b[0m 13us/step - accuracy: 1.0000 - loss: 0.0596 - val_accuracy: 0.8333 - val_loss: 0.1288\n",
      "Epoch 13/30\n",
      "\u001b[1m4992/4992\u001b[0m \u001b[32m━━━━━━━━━━━━━━━━━━━━\u001b[0m\u001b[37m\u001b[0m \u001b[1m1640s\u001b[0m 328ms/step - accuracy: 0.9358 - loss: 0.2027 - val_accuracy: 0.9515 - val_loss: 0.1732\n"
     ]
    }
   ],
   "source": [
    "# Early stopping to avoid overfitting\n",
    "early_stopping = EarlyStopping(monitor='val_loss', patience=5, restore_best_weights=True)\n",
    "\n",
    "# Model checkpoint to save the best model (updated extension to .keras)\n",
    "model_checkpoint = ModelCheckpoint('best_cnn_model.keras', monitor='val_accuracy', save_best_only=True)\n",
    "\n",
    "# Train the model\n",
    "history = model.fit(\n",
    "    train_generator,\n",
    "    steps_per_epoch=train_generator.samples // train_generator.batch_size,\n",
    "    validation_data=validation_generator,\n",
    "    validation_steps=validation_generator.samples // validation_generator.batch_size,\n",
    "    epochs=30,  # Train for 30 epochs (or more if necessary)\n",
    "    callbacks=[early_stopping, model_checkpoint]\n",
    ")\n"
   ]
  },
  {
   "cell_type": "code",
   "execution_count": 8,
   "metadata": {},
   "outputs": [
    {
     "name": "stdout",
     "output_type": "stream",
     "text": [
      "\u001b[1m1248/1248\u001b[0m \u001b[32m━━━━━━━━━━━━━━━━━━━━\u001b[0m\u001b[37m\u001b[0m \u001b[1m177s\u001b[0m 142ms/step - accuracy: 0.9482 - loss: 0.1815\n",
      "Validation Accuracy: 0.9472813606262207\n"
     ]
    }
   ],
   "source": [
    "# Evaluate model performance on validation data\n",
    "test_loss, test_acc = model.evaluate(validation_generator)\n",
    "print(f'Validation Accuracy: {test_acc}')\n"
   ]
  },
  {
   "cell_type": "code",
   "execution_count": 9,
   "metadata": {},
   "outputs": [
    {
     "name": "stderr",
     "output_type": "stream",
     "text": [
      "WARNING:absl:You are saving your model as an HDF5 file via `model.save()` or `keras.saving.save_model(model)`. This file format is considered legacy. We recommend using instead the native Keras format, e.g. `model.save('my_model.keras')` or `keras.saving.save_model(model, 'my_model.keras')`. \n"
     ]
    }
   ],
   "source": [
    "model.save('plant_disease_cnn_model.h5')"
   ]
  }
 ],
 "metadata": {
  "kernelspec": {
   "display_name": "ML",
   "language": "python",
   "name": "python3"
  },
  "language_info": {
   "codemirror_mode": {
    "name": "ipython",
    "version": 3
   },
   "file_extension": ".py",
   "mimetype": "text/x-python",
   "name": "python",
   "nbconvert_exporter": "python",
   "pygments_lexer": "ipython3",
   "version": "3.12.0"
  }
 },
 "nbformat": 4,
 "nbformat_minor": 2
}
